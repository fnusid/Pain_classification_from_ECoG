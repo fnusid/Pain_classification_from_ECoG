{
  "cells": [
    {
      "cell_type": "markdown",
      "metadata": {
        "id": "SrjG1N6ByMVV"
      },
      "source": [
        "Dont use gpu while executing this notebook, it takes time and might interrupt the program"
      ]
    },
    {
      "cell_type": "code",
      "execution_count": 1,
      "metadata": {
        "colab": {
          "base_uri": "https://localhost:8080/"
        },
        "id": "yPa2T6XvkQa_",
        "outputId": "c1c8cf8c-3d3d-442e-b6c4-4550cf70b310"
      },
      "outputs": [
        {
          "name": "stdout",
          "output_type": "stream",
          "text": [
            "Mounted at /content/drive\n"
          ]
        }
      ],
      "source": [
        "#Mounting drive\n",
        "from google.colab import drive\n",
        "drive.mount('/content/drive')"
      ]
    },
    {
      "cell_type": "code",
      "execution_count": 2,
      "metadata": {
        "id": "wcGmaI1bo8fD"
      },
      "outputs": [],
      "source": [
        "#Important headers\n",
        "import scipy.io\n",
        "import os\n",
        "import numpy as np\n",
        "from PIL import Image\n",
        "import matplotlib.pyplot as plt\n",
        "%matplotlib inline\n",
        "from scipy import signal\n",
        "import cmath\n",
        "import pdb\n",
        "from scipy import fftpack\n",
        "from scipy.fftpack import fft"
      ]
    },
    {
      "cell_type": "code",
      "execution_count": 3,
      "metadata": {
        "id": "-SBNIKl3UrlD"
      },
      "outputs": [],
      "source": [
        "#Global variables\n",
        "global phase\n",
        "global a\n",
        "global b\n",
        "global c"
      ]
    },
    {
      "cell_type": "markdown",
      "metadata": {
        "id": "ebrONm-nWpRQ"
      },
      "source": [
        "Functions"
      ]
    },
    {
      "cell_type": "code",
      "execution_count": 4,
      "metadata": {
        "id": "HrIUSIxDUriw"
      },
      "outputs": [],
      "source": [
        "'''\n",
        "Input : different bands of the trial\n",
        "output : MSC values of the trial\n",
        "'''\n",
        "#unfiltered msc# Called in MSC function\n",
        "def uMSC(Channel_1,Channel_2):\n",
        "  f, Cxy = signal.coherence(Channel_1, Channel_2, 200, nperseg=1024)\n",
        "  return f,Cxy\n",
        "#filtered msc for alpha, beta and gamma\n",
        "\n",
        "def MSC(alp,bet,gam):\n",
        "  final_msc_alpha = {}        #alpha beta gamma msc values of a trial\n",
        "  final_msc_beta = {}\n",
        "  final_msc_gamma = {}\n",
        "  for k in range(62):\n",
        "    for j in range(62):       #for all 62 channels\n",
        "\n",
        "      f_alp, Cxy_alp = uMSC(alp[k],alp[j])\n",
        "      f_bet, Cxy_bet = uMSC(bet[k],bet[j])\n",
        "      f_gam, Cxy_gam = uMSC(gam[k],gam[j])\n",
        "      final_msc_alpha[(k,j)] = np.sum(Cxy_alp)/len(Cxy_alp)\n",
        "      final_msc_beta[(k,j)] = np.sum(Cxy_bet)/len(Cxy_bet)\n",
        "      final_msc_gamma[(k,j)] = np.sum(Cxy_gam)/len(Cxy_gam)\n",
        "  return final_msc_alpha,final_msc_beta,final_msc_gamma\n"
      ]
    },
    {
      "cell_type": "code",
      "execution_count": 15,
      "metadata": {
        "id": "lrsaBWtsUrZr"
      },
      "outputs": [],
      "source": [
        "'''\n",
        "Input : eeg data of the trial\n",
        "output : different bands of the trial\n",
        "'''\n",
        "def get_bands(matrix):\n",
        "  filtered_alpha=[]\n",
        "  filtered_beta=[]\n",
        "  filtered_gamma=[]\n",
        "  arr=matrix\n",
        "\n",
        "  sos_alpha = signal.butter(10, [8,13], 'bp', fs=200, output='sos')\n",
        "  filtered_alpha=signal.sosfilt(sos_alpha, arr)\n",
        "  sos_beta = signal.butter(10, [13,30], 'bp', fs=200, output='sos')\n",
        "  filtered_beta=signal.sosfilt(sos_beta, arr)\n",
        "  sos_gamma = signal.butter(10, [30,75], 'bp', fs=200, output='sos')\n",
        "  filtered_gamma=signal.sosfilt(sos_gamma, arr)\n",
        "\n",
        "  print('length of the filtered alpha band is ', len(filtered_alpha))\n",
        "  print('\\nlength of the filtered beta band is ',len(filtered_beta))\n",
        "  print('\\nlength of the filtered Gamma band is ',len(filtered_gamma))\n",
        "\n",
        "#Data Augmentation through sliding window approach. Delete this portion if not needed. In the paper titled 'Emotion detection from\n",
        "#EEG using transfer learning' this portion was not included. This was added later in the future experiments\n",
        "\n",
        "  # Set window size and stride\n",
        "  window_size = 3700 #Dependent on your data\n",
        "  stride = 1850 # use according to your usage of overlapping or non overlapping windows\n",
        "\n",
        "  # Calculate number of subarrays\n",
        "  num_subarrays_alpha = ((filtered_alpha.shape[1] - window_size) // stride) + 1\n",
        "  num_subarrays_beta = ((filtered_beta.shape[1] - window_size) // stride) + 1\n",
        "  num_subarrays_gamma = ((filtered_gamma.shape[1] - window_size) // stride) + 1\n",
        "\n",
        "  # Initialize array to hold subarrays\n",
        "  subarrays_alpha = np.zeros((num_subarrays_alpha, 62, window_size))\n",
        "  subarrays_beta = np.zeros((num_subarrays_beta, 62, window_size))\n",
        "  subarrays_gamma = np.zeros((num_subarrays_gamma, 62, window_size))\n",
        "\n",
        "  # Fill array with subarrays using sliding window\n",
        "  for i in range(num_subarrays_alpha):\n",
        "      start_index = i * stride\n",
        "      end_index = start_index + window_size\n",
        "      subarrays_alpha[i] = filtered_alpha[:, start_index:end_index]\n",
        "  for i in range(num_subarrays_beta):\n",
        "      start_index = i * stride\n",
        "      end_index = start_index + window_size\n",
        "      subarrays_beta[i] = filtered_beta[:, start_index:end_index]\n",
        "  for i in range(num_subarrays_gamma):\n",
        "      start_index = i * stride\n",
        "      end_index = start_index + window_size\n",
        "      subarrays_gamma[i] = filtered_gamma[:, start_index:end_index]\n",
        "  return subarrays_alpha, subarrays_beta, subarrays_gamma"
      ]
    },
    {
      "cell_type": "code",
      "execution_count": 16,
      "metadata": {
        "id": "D_bkkBlfU4Cj"
      },
      "outputs": [],
      "source": [
        "#Obtaining Phase through hilbert transform\n",
        "'''\n",
        "Input : filtered time series bands of the trial\n",
        "output : phase of the signal\n",
        "'''\n",
        "\n",
        "def Phase_calc(x):\n",
        "  phase=[]\n",
        "  z=scipy.signal.hilbert(x, N=None, axis=- 1)\n",
        "  inst_phase = (np.unwrap(np.angle(z)))#inst phase\n",
        "  inst_freq = np.diff(inst_phase)/(2*np.pi)*200 #inst frequency\n",
        "  phase.append(inst_phase)\n",
        "  return phase"
      ]
    },
    {
      "cell_type": "code",
      "execution_count": 17,
      "metadata": {
        "id": "JPUsJennU3_5"
      },
      "outputs": [],
      "source": [
        "#Getting the MPC values\n",
        "'''\n",
        "Input : phase values of the trial\n",
        "output : MPC matrix of the trial\n",
        "'''\n",
        "\n",
        "def MPC_Matrix(phase):#if needed input phase to this function \"def MPC_Matrix(phase)\".\n",
        "  for o in range(0,1):\n",
        "    mpc=[]\n",
        "    for i in range(0,62): #Change according to the number of channels\n",
        "      mpcik=0\n",
        "      for k in range(i, 62): #Change according to the number of channels\n",
        "        mpcik = mpcik + abs(np.sum(np.exp(-1*cmath.sqrt(-1)*(phase[o][i]-phase[o][k]))))\n",
        "        mpcikf= (1/3700)*mpcik #Change according to the window length\n",
        "        mpc.append(mpcikf)\n",
        "        mpcikf=mpcik=0\n",
        "    return mpc\n"
      ]
    },
    {
      "cell_type": "markdown",
      "metadata": {
        "id": "jNoNcSLtWrf7"
      },
      "source": [
        "Load the dataset"
      ]
    },
    {
      "cell_type": "code",
      "execution_count": 19,
      "metadata": {
        "id": "eRBF6g0tnXNr"
      },
      "outputs": [],
      "source": [
        "#Loading the dataset\n",
        "matfiles=[]\n",
        "path='/content/drive/MyDrive/dataset/SEED_EEG/SEED_EEG/Preprocessed_EEG' #provide the path to SEED EEG dataset\n",
        "files=os.listdir(path)\n",
        "for index in range(len(files)):\n",
        "  if files[index].endswith('.mat'):\n",
        "    matfiles.append(files[index])\n"
      ]
    },
    {
      "cell_type": "markdown",
      "metadata": {
        "id": "tY4q_Bc2Wu0q"
      },
      "source": [
        "Generating images"
      ]
    },
    {
      "cell_type": "code",
      "execution_count": 20,
      "metadata": {
        "colab": {
          "base_uri": "https://localhost:8080/",
          "height": 1000
        },
        "id": "9N4AdZS5pRoU",
        "outputId": "d519c65e-32de-4e18-8b35-7a95cfa80609"
      },
      "outputs": [
        {
          "name": "stdout",
          "output_type": "stream",
          "text": [
            "/content/drive/MyDrive/dataset/SEED_EEG/SEED_EEG/Preprocessed_EEG/1_20131027.mat\n",
            "eeg data of key0 \n",
            " [[-11.62290573 -16.21246338 -17.13633537 ...  -4.14252281  -4.529953\n",
            "   -2.05636024]\n",
            " [ 14.93096352   8.07642937   8.19563866 ...  31.44145012  34.00444984\n",
            "   37.72974014]\n",
            " [ 38.05756569  25.57039261  37.99796104 ...  37.04428673  34.481287\n",
            "   40.4715538 ]\n",
            " ...\n",
            " [ 24.25909042  15.49720764  21.51727676 ...  17.49396324  16.30187035\n",
            "    2.2649765 ]\n",
            " [ 26.82209015  27.77576447  26.70288086 ...  22.67956734  24.2292881\n",
            "   12.18914986]\n",
            " [ 29.77252007  33.55741501  30.39836884 ...  12.09974289   9.65595245\n",
            "    2.86102295]] \n",
            " shape= (62, 37001)\n",
            "length of the filtered alpha band is  62\n",
            "\n",
            "length of the filtered beta band is  62\n",
            "\n",
            "length of the filtered Gamma band is  62\n"
          ]
        },
        {
          "name": "stderr",
          "output_type": "stream",
          "text": [
            "\n",
            "PYDEV DEBUGGER WARNING:\n",
            "sys.settrace() should not be used when the debugger is being used.\n",
            "This may cause the debugger to stop working correctly.\n",
            "If this is needed, please check: \n",
            "http://pydev.blogspot.com/2007/06/why-cant-pydev-debugger-work-with.html\n",
            "to see how to restore the debug tracing back correctly.\n",
            "Call Location:\n",
            "  File \"/usr/lib/python3.10/bdb.py\", line 336, in set_trace\n",
            "    sys.settrace(self.trace_dispatch)\n",
            "\n"
          ]
        },
        {
          "name": "stdout",
          "output_type": "stream",
          "text": [
            "> \u001b[0;32m<ipython-input-20-c323c8ca9397>\u001b[0m(80)\u001b[0;36m<cell line: 4>\u001b[0;34m()\u001b[0m\n",
            "\u001b[0;32m     78 \u001b[0;31m      \u001b[0;31m#Saving the Images into respective classes. Refer SEED dataset for the information regarding classes.\u001b[0m\u001b[0;34m\u001b[0m\u001b[0;34m\u001b[0m\u001b[0m\n",
            "\u001b[0m\u001b[0;32m     79 \u001b[0;31m\u001b[0;34m\u001b[0m\u001b[0m\n",
            "\u001b[0m\u001b[0;32m---> 80 \u001b[0;31m      \u001b[0;32mif\u001b[0m \u001b[0mj\u001b[0m \u001b[0;32min\u001b[0m \u001b[0;34m[\u001b[0m\u001b[0;36m0\u001b[0m\u001b[0;34m,\u001b[0m\u001b[0;36m5\u001b[0m\u001b[0;34m,\u001b[0m\u001b[0;36m8\u001b[0m\u001b[0;34m,\u001b[0m\u001b[0;36m9\u001b[0m\u001b[0;34m,\u001b[0m\u001b[0;36m13\u001b[0m\u001b[0;34m]\u001b[0m\u001b[0;34m:\u001b[0m\u001b[0;34m\u001b[0m\u001b[0;34m\u001b[0m\u001b[0m\n",
            "\u001b[0m\u001b[0;32m     81 \u001b[0;31m        \u001b[0mprint\u001b[0m\u001b[0;34m(\u001b[0m\u001b[0;34m'hi'\u001b[0m\u001b[0;34m)\u001b[0m\u001b[0;34m\u001b[0m\u001b[0;34m\u001b[0m\u001b[0m\n",
            "\u001b[0m\u001b[0;32m     82 \u001b[0;31m        \u001b[0;32mif\u001b[0m \u001b[0mos\u001b[0m\u001b[0;34m.\u001b[0m\u001b[0mpath\u001b[0m\u001b[0;34m.\u001b[0m\u001b[0mexists\u001b[0m\u001b[0;34m(\u001b[0m\u001b[0;34m'/content/drive/MyDrive/Neural_signal_processing/1'\u001b[0m\u001b[0;34m)\u001b[0m\u001b[0;34m==\u001b[0m\u001b[0;32mFalse\u001b[0m\u001b[0;34m:\u001b[0m\u001b[0;34m\u001b[0m\u001b[0;34m\u001b[0m\u001b[0m\n",
            "\u001b[0m\n",
            "ipdb> plt.imshow(r_array)\n",
            "<matplotlib.image.AxesImage object at 0x7afa35e65ae0>\n",
            "ipdb> exit\n"
          ]
        },
        {
          "name": "stderr",
          "output_type": "stream",
          "text": [
            "\n",
            "PYDEV DEBUGGER WARNING:\n",
            "sys.settrace() should not be used when the debugger is being used.\n",
            "This may cause the debugger to stop working correctly.\n",
            "If this is needed, please check: \n",
            "http://pydev.blogspot.com/2007/06/why-cant-pydev-debugger-work-with.html\n",
            "to see how to restore the debug tracing back correctly.\n",
            "Call Location:\n",
            "  File \"/usr/lib/python3.10/bdb.py\", line 361, in set_quit\n",
            "    sys.settrace(None)\n",
            "\n"
          ]
        },
        {
          "data": {
            "image/png": "[encoded data removed]",
            "text/plain": [
              "<Figure size 640x480 with 1 Axes>"
            ]
          },
          "metadata": {},
          "output_type": "display_data"
        }
      ],
      "source": [
        "'''In the image, the upper triangle contains MPC values, diagonal contains DE values and lower\n",
        "   triangle contains MSC values.'''\n",
        "\n",
        "for index in range(len(matfiles)):\n",
        "  name=matfiles[index].split('_')[0]\n",
        "  matpath=os.path.join(path,matfiles[index])\n",
        "  print(matpath)\n",
        "  matrix=scipy.io.loadmat(matpath)\n",
        "  keys=list(matrix.keys())[3:]\n",
        "  for key in keys:\n",
        "    matrix[key]=matrix[key][:,:37001] #samples are dependent on the sample size\n",
        "  for j in range(len(keys)):\n",
        "    eeg_data = matrix[keys[j]]\n",
        "    print(f'eeg data of key{j}','\\n',eeg_data,'\\n','shape=',eeg_data.shape)\n",
        "    data=eeg_data\n",
        "    MPC={'alpha': [],'beta':[],'Gamma':[]}\n",
        "    a,b,c=get_bands(data)\n",
        "    for ingl in range(len(a)):\n",
        "      place_holder1=Phase_calc(a[ingl])\n",
        "      MPC['alpha'].append(MPC_Matrix(place_holder1))\n",
        "      place_holder2=Phase_calc(b[ingl])\n",
        "      MPC['beta'].append(MPC_Matrix(place_holder2))\n",
        "      place_holder3=Phase_calc(c[ingl])\n",
        "      MPC['Gamma'].append(MPC_Matrix(place_holder3))\n",
        "      final_alpha,final_beta,final_gamma = MSC(a[ingl],b[ingl],c[ingl])\n",
        "      mtrx_alpha=[]\n",
        "      for i in range(0,62): #number of channels are variable, dependent on the data\n",
        "        mtrx_alpha.append([0]*62)#number of channels are variable, dependent on the data\n",
        "      mtrx_beta=[]\n",
        "      for i in range(0,62):\n",
        "        mtrx_beta.append([0]*62)#number of channels are variable, dependent on the data\n",
        "      mtrx_gamma=[]\n",
        "      for i in range(0,62):\n",
        "        mtrx_gamma.append([0]*62)#number of channels are variable, dependent on the data\n",
        "      l=0\n",
        "      p=0\n",
        "      for i in range(62):#number of channels are variable, dependent on the data\n",
        "        for k in range(62):#number of channels are variable, dependent on the data\n",
        "          if i<k:\n",
        "            mtrx_alpha[i][k] = MPC['alpha'][0][l]\n",
        "            mtrx_beta[i][k] = MPC['beta'][0][l]\n",
        "            mtrx_gamma[i][k] = MPC['Gamma'][0][l]\n",
        "            l=l+1\n",
        "          elif i>k:\n",
        "            mtrx_alpha[i][k] = final_alpha[(i,k)]\n",
        "            mtrx_beta[i][k] = final_beta[(i,k)]\n",
        "            mtrx_gamma[i][k] = final_gamma[(i,k)]\n",
        "            p+=1\n",
        "\n",
        "      #Adding DE\n",
        "      # DE was already provided in the SEED_EEG dataset\n",
        "      for i in range(62):#number of channels are variable, dependent on the data\n",
        "        for k in range(62):#number of channels are variable, dependent on the data\n",
        "          if i==k:\n",
        "            de=scipy.io.loadmat(f'/content/drive/MyDrive/dataset/SEED_EEG/SEED_EEG/ExtractedFeatures/{matfiles[index]}')['de_movingAve1'] #Load the DE features from SEED dataset\n",
        "            DE=[]\n",
        "            for ele1 in range(len(de)):\n",
        "              DE_sub=[]\n",
        "              for ele2 in range(len(de[ele1])):\n",
        "                DE_sub.append(np.mean(de[ele1][ele2]))\n",
        "              DE.append(DE_sub)\n",
        "            for iter in range(len(DE)):\n",
        "              DE[iter]=np.mean(DE[iter])\n",
        "            data_min = np.min(DE)\n",
        "            data_max = np.max(DE)\n",
        "            for iter in range(len(DE)):\n",
        "              DE[iter] = (DE[iter]-data_min)/(data_max-data_min)\n",
        "            mtrx_alpha[i][k] = DE[i]\n",
        "            mtrx_beta[i][k] = DE[i]\n",
        "            mtrx_gamma[i][k] = DE[i]\n",
        "      mtrx_alpha=np.reshape(mtrx_alpha,(62,62))#number of channels are variable, dependent on the data\n",
        "      mtrx_beta=np.reshape(mtrx_beta,(62,62))#number of channels are variable, dependent on the data\n",
        "      mtrx_gamma=np.reshape(mtrx_gamma,(62,62))#number of channels are variable, dependent on the data\n",
        "      r_array = np.dstack((mtrx_alpha,mtrx_beta,mtrx_gamma))\n",
        "      r = Image.fromarray(np.uint8(r_array))\n",
        "\n",
        "      #Saving the Images into respective classes. Refer SEED dataset for the information regarding classes.\n",
        "\n",
        "      if j in [0,5,8,9,13]: #specific trials are dependent on the dataset\n",
        "        print('hi')\n",
        "        if os.path.exists('/content/drive/MyDrive/Neural_signal_processing/1')==False:\n",
        "          os.mkdir('/content/drive/MyDrive/Neural_signal_processing/1')\n",
        "        r.save(f'/content/drive/MyDrive/Neural_signal_processing/1/{name}_{j}_{i}.png')\n",
        "\n",
        "\n",
        "      elif j in [1,4,7,10,12]:#specific trials are dependent on the dataset\n",
        "        print('hello')\n",
        "        if os.path.exists('/content/drive/MyDrive/Neural_signal_processing/0')==False:\n",
        "          os.mkdir('/content/drive/MyDrive/Neural_signal_processing/0')\n",
        "        r.save(f'/content/drive/MyDrive/Neural_signal_processing/0/{name}_{j}_{i}.png')\n",
        "\n",
        "      elif j in [2,3,6,11,14]:#specific trials are dependent on the dataset\n",
        "        print('who')\n",
        "        if os.path.exists('/content/drive/MyDrive/Neural_signal_processing/-1')==False:\n",
        "          os.mkdir('/content/drive/MyDrive/Neural_signal_processing/-1')\n",
        "        r.save(f'/content/drive/MyDrive/Neural_signal_processing/-1/{name}_{j}_{i}.png')\n",
        "\n",
        "\n",
        "\n"
      ]
    }
  ],
  "metadata": {
    "colab": {
      "provenance": []
    },
    "gpuClass": "standard",
    "kernelspec": {
      "display_name": "Python 3",
      "name": "python3"
    },
    "language_info": {
      "name": "python"
    }
  },
  "nbformat": 4,
  "nbformat_minor": 0
}
